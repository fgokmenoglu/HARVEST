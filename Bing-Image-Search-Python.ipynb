{
 "cells": [
  {
   "cell_type": "code",
   "execution_count": null,
   "id": "3129c0d1",
   "metadata": {},
   "outputs": [],
   "source": [
    "# Import the following modules\n",
    "import requests\n",
    "import cv2\n",
    "import os\n",
    "from requests import exceptions\n",
    "\n",
    "# Set your subscription key and search endpoint\n",
    "SUBSCRIPTION_KEY = \"\" # YOUR_API_KEY_GOES_HERE\n",
    "SEARCH_URL = \"https://api.bing.microsoft.com/v7.0/images/search\"\n",
    "\n",
    "# Set the maximum number of results for a given search and the group size for results (maximum of 50 per request)\n",
    "MAX_RESULTS = 250\n",
    "GROUP_SIZE = 50"
   ]
  },
  {
   "cell_type": "code",
   "execution_count": null,
   "id": "b5232673",
   "metadata": {},
   "outputs": [],
   "source": [
    "# Build the list of exceptions that can be thrown when attempting to download images\n",
    "EXCEPTIONS = set([IOError, FileNotFoundError,\n",
    "\texceptions.RequestException, exceptions.HTTPError,\n",
    "\texceptions.ConnectionError, exceptions.Timeout])"
   ]
  },
  {
   "cell_type": "code",
   "execution_count": null,
   "id": "995238a9",
   "metadata": {},
   "outputs": [],
   "source": [
    "# Set your search query\n",
    "SEARCH_TERM = \"Blade Runner 1982 Roy Batty\"\n",
    "\n",
    "# Set your headers and search parameters\n",
    "HEADERS = {\"Ocp-Apim-Subscription-Key\" : SUBSCRIPTION_KEY}\n",
    "PARAMS = {\"q\": SEARCH_TERM, \"mkt\": \"en-US\", \"offset\": 0, \"count\": GROUP_SIZE}"
   ]
  },
  {
   "cell_type": "code",
   "execution_count": null,
   "id": "eca1094e",
   "metadata": {},
   "outputs": [],
   "source": [
    "# Perform the search\n",
    "print(f\"[INFO] Searching Bing API for '{SEARCH_TERM}'\")\n",
    "search = requests.get(SEARCH_URL, headers=HEADERS, params=PARAMS)\n",
    "search.raise_for_status()\n",
    "\n",
    "# Grab the results from the search, including the total number of estimated results returned by the Bing API\n",
    "results = search.json()\n",
    "estimatedNumResults = min(results[\"totalEstimatedMatches\"], MAX_RESULTS)\n",
    "print(f\"[INFO] {estimatedNumResults} total results for '{SEARCH_TERM}'\")"
   ]
  },
  {
   "cell_type": "code",
   "execution_count": null,
   "id": "15f85c86",
   "metadata": {},
   "outputs": [],
   "source": [
    "# Keep a counter of the images downloaded\n",
    "total = 0\n",
    "\n",
    "# Loop over the estimated number of results in `GROUP_SIZE` groups\n",
    "for offset in range(0, estimatedNumResults, GROUP_SIZE):\n",
    "\t# Update the search parameters using the current offset\n",
    "\tprint(f\"[INFO] Making request for group {offset}-{offset + GROUP_SIZE} of {estimatedNumResults}...\")\n",
    "\tPARAMS[\"offset\"] = offset\n",
    "    \n",
    "\t# Make the request to fetch the results\n",
    "\tsearch = requests.get(SEARCH_URL, headers=HEADERS, params=PARAMS)\n",
    "\tsearch.raise_for_status()\n",
    "\tresults = search.json()\n",
    "\tprint(f\"[INFO] Saving images for group {offset}-{offset + GROUP_SIZE} of {estimatedNumResults}...\")\n",
    "    \n",
    "    # Loop over the results\n",
    "\tfor v in results[\"value\"]:\n",
    "\t\t# Try to download the image\n",
    "\t\ttry:\n",
    "\t\t\t# Make a request to download the image\n",
    "\t\t\tprint(f\"[INFO] Fetching: {v['contentUrl']}\")\n",
    "\t\t\tr = requests.get(v[\"contentUrl\"], timeout=30)\n",
    "\t\t\t\n",
    "            # Build the path to the output image\n",
    "\t\t\text = v[\"contentUrl\"][v[\"contentUrl\"].rfind(\".\"):]\n",
    "\t\t\tpath = os.path.sep.join([\"C:/Users/fatih.gokmenoglu/Downloads/replicant-or-not/Roy Batty/\", f\"{str(total).zfill(8)}{ext}\"])\n",
    "            \n",
    "\t\t\t# Write the image to disk\n",
    "\t\t\tf = open(path, \"wb\")\n",
    "\t\t\tf.write(r.content)\n",
    "\t\t\tf.close()\n",
    "\t\t# Catch any errors that would not unable us to download the image\n",
    "\t\texcept Exception as e:\n",
    "\t\t\t# Check to see if our exception is in our list of exceptions to check for\n",
    "\t\t\tif type(e) in EXCEPTIONS:\n",
    "\t\t\t\tprint(f\"[INFO] Skipping: {v['contentUrl']}\")\n",
    "\t\t\t\tcontinue\n",
    "                \n",
    "        # Try to load the image from disk\n",
    "\t\timage = cv2.imread(path)\n",
    "        \n",
    "\t\t# If the image is `None` then we could not properly load the image from disk (so it should be ignored)\n",
    "\t\tif image is None:\n",
    "\t\t\tprint(f\"[INFO] Deleting: {path}\")\n",
    "\t\t\tos.remove(path)\n",
    "\t\t\tcontinue\n",
    "            \n",
    "\t\t# Update the counter\n",
    "\t\ttotal += 1"
   ]
  }
 ],
 "metadata": {
  "kernelspec": {
   "display_name": "Python 3 (ipykernel)",
   "language": "python",
   "name": "python3"
  },
  "language_info": {
   "codemirror_mode": {
    "name": "ipython",
    "version": 3
   },
   "file_extension": ".py",
   "mimetype": "text/x-python",
   "name": "python",
   "nbconvert_exporter": "python",
   "pygments_lexer": "ipython3",
   "version": "3.9.13"
  }
 },
 "nbformat": 4,
 "nbformat_minor": 5
}
